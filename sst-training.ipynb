{
 "cells": [
  {
   "cell_type": "code",
   "execution_count": 1,
   "metadata": {},
   "outputs": [],
   "source": [
    "import pandas as pd\n",
    "import numpy as np\n",
    "import tensorflow_hub as hub\n",
    "import tensorflow.keras as keras\n",
    "import tensorflow as tf\n",
    "from sklearn.preprocessing import LabelEncoder"
   ]
  },
  {
   "cell_type": "code",
   "execution_count": 2,
   "metadata": {},
   "outputs": [],
   "source": [
    "def fine_grained_to_3_class(label):\n",
    "    if label == '__label__1' or label == '__label__2':\n",
    "        return 'Negative'\n",
    "    elif label == '__label__3':\n",
    "        return 'Neutral'\n",
    "    return 'Positive'"
   ]
  },
  {
   "cell_type": "code",
   "execution_count": 3,
   "metadata": {},
   "outputs": [],
   "source": [
    "df_train = pd.read_csv('./sst_train.txt', sep='\\t', header=None, names=['truth', 'text'], encoding='ansi')\n",
    "df_dev = pd.read_csv('./sst_dev.txt', sep='\\t', header=None, names=['truth', 'text'], encoding='ansi')\n",
    "df_test = pd.read_csv('./sst_test.txt', sep='\\t', header=None, names=['truth', 'text'], encoding='ansi')"
   ]
  },
  {
   "cell_type": "code",
   "execution_count": 4,
   "metadata": {},
   "outputs": [],
   "source": [
    "df_train.truth = df_train.truth.apply(fine_grained_to_3_class)\n",
    "df_test.truth = df_test.truth.apply(fine_grained_to_3_class)\n",
    "df_dev.truth = df_dev.truth.apply(fine_grained_to_3_class)"
   ]
  },
  {
   "cell_type": "code",
   "execution_count": 5,
   "metadata": {},
   "outputs": [],
   "source": [
    "embed = hub.Module('D:\\\\Workspace\\\\NLP\\\\tfhub-modules\\\\google-universal-sentence-encoder')\n",
    "\n",
    "init = tf.global_variables_initializer()\n",
    "table_init = tf.tables_initializer()"
   ]
  },
  {
   "cell_type": "code",
   "execution_count": 6,
   "metadata": {},
   "outputs": [
    {
     "data": {
      "text/plain": [
       "'1.15.0-rc2'"
      ]
     },
     "execution_count": 6,
     "metadata": {},
     "output_type": "execute_result"
    }
   ],
   "source": [
    "tf.__version__"
   ]
  },
  {
   "cell_type": "code",
   "execution_count": 7,
   "metadata": {},
   "outputs": [],
   "source": [
    "x_train = df_train.text.values\n",
    "y_train = df_train.truth.values\n",
    "\n",
    "x_dev = df_dev.text.values\n",
    "y_dev = df_dev.truth.values\n",
    "\n",
    "x_test = df_test.text.values\n",
    "y_test = df_test.truth.values"
   ]
  },
  {
   "cell_type": "code",
   "execution_count": 8,
   "metadata": {},
   "outputs": [
    {
     "name": "stdout",
     "output_type": "stream",
     "text": [
      " x_train : (8544,)\n",
      " y _train : (8544,)\n",
      " x_dev : (1101,)\n",
      " y_dev : (1101,)\n",
      "x_test : (2210,)\n",
      "y_test : (2210,)\n"
     ]
    }
   ],
   "source": [
    "print(\" x_train :\", x_train.shape)\n",
    "print(\" y _train :\", y_train.shape)\n",
    "print(\" x_dev :\", x_dev.shape)\n",
    "print(\" y_dev :\", y_dev.shape)\n",
    "print(\"x_test :\", x_test.shape)\n",
    "print(\"y_test :\", y_test.shape)"
   ]
  },
  {
   "cell_type": "code",
   "execution_count": 9,
   "metadata": {},
   "outputs": [],
   "source": [
    "le = LabelEncoder()\n",
    "le.fit(y_train)\n",
    "y_train = keras.utils.to_categorical(le.transform(y_train))\n",
    "y_test = keras.utils.to_categorical(le.transform(y_test))\n",
    "y_dev = keras.utils.to_categorical(le.transform(y_dev))"
   ]
  },
  {
   "cell_type": "code",
   "execution_count": 10,
   "metadata": {},
   "outputs": [
    {
     "data": {
      "text/plain": [
       "((8544, 3), (2210, 3), (1101, 3))"
      ]
     },
     "execution_count": 10,
     "metadata": {},
     "output_type": "execute_result"
    }
   ],
   "source": [
    "y_train.shape, y_test.shape, y_dev.shape"
   ]
  },
  {
   "cell_type": "code",
   "execution_count": 11,
   "metadata": {},
   "outputs": [
    {
     "name": "stdout",
     "output_type": "stream",
     "text": [
      "INFO:tensorflow:Saver not created because there are no variables in the graph to restore\n",
      "INFO:tensorflow:Saver not created because there are no variables in the graph to restore\n",
      "INFO:tensorflow:Saver not created because there are no variables in the graph to restore\n"
     ]
    }
   ],
   "source": [
    "with tf.Session() as sess:\n",
    "    sess.run([init, table_init])\n",
    "    x_train = sess.run(embed(x_train))\n",
    "    x_test = sess.run(embed(x_test))\n",
    "    x_dev = sess.run(embed(x_dev))"
   ]
  },
  {
   "cell_type": "code",
   "execution_count": 12,
   "metadata": {},
   "outputs": [
    {
     "data": {
      "text/plain": [
       "((8544, 512), (2210, 512), (1101, 512))"
      ]
     },
     "execution_count": 12,
     "metadata": {},
     "output_type": "execute_result"
    }
   ],
   "source": [
    "x_train.shape, x_test.shape, x_dev.shape"
   ]
  },
  {
   "cell_type": "code",
   "execution_count": 13,
   "metadata": {},
   "outputs": [
    {
     "data": {
      "text/plain": [
       "((8544, 512), (2210, 512), (1101, 512))"
      ]
     },
     "execution_count": 13,
     "metadata": {},
     "output_type": "execute_result"
    }
   ],
   "source": [
    "x_train.shape, x_test.shape, x_dev.shape"
   ]
  },
  {
   "cell_type": "code",
   "execution_count": 14,
   "metadata": {},
   "outputs": [],
   "source": [
    "_inputs = keras.layers.Input(shape=(512,))"
   ]
  },
  {
   "cell_type": "code",
   "execution_count": 15,
   "metadata": {},
   "outputs": [
    {
     "name": "stdout",
     "output_type": "stream",
     "text": [
      "WARNING:tensorflow:From d:\\workspace\\streamlit-learning\\venv\\lib\\site-packages\\tensorflow_core\\python\\ops\\resource_variable_ops.py:1630: calling BaseResourceVariable.__init__ (from tensorflow.python.ops.resource_variable_ops) with constraint is deprecated and will be removed in a future version.\n",
      "Instructions for updating:\n",
      "If using Keras pass *_constraint arguments to layers.\n"
     ]
    }
   ],
   "source": [
    "x = keras.layers.Dense(256, activation='relu')(_inputs)\n",
    "x = keras.layers.Dropout(0.3)(x)\n",
    "# x = keras.layers.Dense(128, activation='relu')(x)\n",
    "# x = keras.layers.Dropout(0.5)(x)\n",
    "outputs = keras.layers.Dense(3, activation='softmax')(x)"
   ]
  },
  {
   "cell_type": "code",
   "execution_count": 16,
   "metadata": {},
   "outputs": [],
   "source": [
    "model = keras.models.Model(_inputs, outputs)"
   ]
  },
  {
   "cell_type": "code",
   "execution_count": 17,
   "metadata": {},
   "outputs": [
    {
     "name": "stdout",
     "output_type": "stream",
     "text": [
      "Model: \"model\"\n",
      "_________________________________________________________________\n",
      "Layer (type)                 Output Shape              Param #   \n",
      "=================================================================\n",
      "input_1 (InputLayer)         [(None, 512)]             0         \n",
      "_________________________________________________________________\n",
      "dense (Dense)                (None, 256)               131328    \n",
      "_________________________________________________________________\n",
      "dropout (Dropout)            (None, 256)               0         \n",
      "_________________________________________________________________\n",
      "dense_1 (Dense)              (None, 3)                 771       \n",
      "=================================================================\n",
      "Total params: 132,099\n",
      "Trainable params: 132,099\n",
      "Non-trainable params: 0\n",
      "_________________________________________________________________\n"
     ]
    }
   ],
   "source": [
    "model.summary()"
   ]
  },
  {
   "cell_type": "code",
   "execution_count": 18,
   "metadata": {},
   "outputs": [],
   "source": [
    "callbacks = [ keras.callbacks.ReduceLROnPlateau(),\n",
    "              keras.callbacks.EarlyStopping()\n",
    "            ]"
   ]
  },
  {
   "cell_type": "code",
   "execution_count": 19,
   "metadata": {},
   "outputs": [],
   "source": [
    "model.compile('adam', loss= 'categorical_crossentropy', metrics=['accuracy'])"
   ]
  },
  {
   "cell_type": "code",
   "execution_count": 20,
   "metadata": {},
   "outputs": [
    {
     "name": "stdout",
     "output_type": "stream",
     "text": [
      "Train on 8544 samples, validate on 1101 samples\n",
      "Epoch 1/20\n",
      "8544/8544 [==============================] - 7s 833us/sample - loss: 0.9153 - acc: 0.5961 - val_loss: 0.8545 - val_acc: 0.6322\n",
      "Epoch 2/20\n",
      "8544/8544 [==============================] - 1s 91us/sample - loss: 0.8378 - acc: 0.6338 - val_loss: 0.8367 - val_acc: 0.6367\n",
      "Epoch 3/20\n",
      "8544/8544 [==============================] - 1s 94us/sample - loss: 0.8238 - acc: 0.6421 - val_loss: 0.8360 - val_acc: 0.6421\n",
      "Epoch 4/20\n",
      "8544/8544 [==============================] - 1s 95us/sample - loss: 0.8128 - acc: 0.6430 - val_loss: 0.8431 - val_acc: 0.6412\n",
      "Epoch 5/20\n",
      "8544/8544 [==============================] - 1s 96us/sample - loss: 0.8004 - acc: 0.6488 - val_loss: 0.8342 - val_acc: 0.6449\n",
      "Epoch 6/20\n",
      "8544/8544 [==============================] - 1s 96us/sample - loss: 0.7904 - acc: 0.6533 - val_loss: 0.8277 - val_acc: 0.6403\n",
      "Epoch 7/20\n",
      "8544/8544 [==============================] - 1s 95us/sample - loss: 0.7775 - acc: 0.6594 - val_loss: 0.8257 - val_acc: 0.6485\n",
      "Epoch 8/20\n",
      "8544/8544 [==============================] - 1s 95us/sample - loss: 0.7650 - acc: 0.6656 - val_loss: 0.8311 - val_acc: 0.6458\n",
      "Epoch 9/20\n",
      "8544/8544 [==============================] - 1s 96us/sample - loss: 0.7523 - acc: 0.6728 - val_loss: 0.8314 - val_acc: 0.6449\n",
      "Epoch 10/20\n",
      "8544/8544 [==============================] - 1s 97us/sample - loss: 0.7381 - acc: 0.6816 - val_loss: 0.8348 - val_acc: 0.6421\n",
      "Epoch 11/20\n",
      "8544/8544 [==============================] - 1s 96us/sample - loss: 0.7254 - acc: 0.6900 - val_loss: 0.8349 - val_acc: 0.6412\n",
      "Epoch 12/20\n",
      "8544/8544 [==============================] - 1s 95us/sample - loss: 0.7130 - acc: 0.7003 - val_loss: 0.8478 - val_acc: 0.6340\n",
      "Epoch 13/20\n",
      "8544/8544 [==============================] - 1s 95us/sample - loss: 0.6982 - acc: 0.7040 - val_loss: 0.8428 - val_acc: 0.6440\n",
      "Epoch 14/20\n",
      "8544/8544 [==============================] - 1s 95us/sample - loss: 0.6872 - acc: 0.7149 - val_loss: 0.8450 - val_acc: 0.6449\n",
      "Epoch 15/20\n",
      "8544/8544 [==============================] - 1s 97us/sample - loss: 0.6707 - acc: 0.7191 - val_loss: 0.8492 - val_acc: 0.6385\n",
      "Epoch 16/20\n",
      "8544/8544 [==============================] - 1s 96us/sample - loss: 0.6578 - acc: 0.7293 - val_loss: 0.8503 - val_acc: 0.6367\n",
      "Epoch 17/20\n",
      "8544/8544 [==============================] - 1s 94us/sample - loss: 0.6428 - acc: 0.7354 - val_loss: 0.8680 - val_acc: 0.6349\n",
      "Epoch 18/20\n",
      "8544/8544 [==============================] - 1s 95us/sample - loss: 0.6312 - acc: 0.7393 - val_loss: 0.8676 - val_acc: 0.6485\n",
      "Epoch 19/20\n",
      "8544/8544 [==============================] - 1s 96us/sample - loss: 0.6208 - acc: 0.7432 - val_loss: 0.8752 - val_acc: 0.6258\n",
      "Epoch 20/20\n",
      "8544/8544 [==============================] - 1s 96us/sample - loss: 0.6071 - acc: 0.7515 - val_loss: 0.8841 - val_acc: 0.6449\n"
     ]
    }
   ],
   "source": [
    "history = model.fit(x_train, y_train, validation_data=(x_dev, y_dev), batch_size=64, epochs=20)"
   ]
  },
  {
   "cell_type": "code",
   "execution_count": null,
   "metadata": {},
   "outputs": [],
   "source": [
    "del _inputs\n",
    "del x\n",
    "del outputs"
   ]
  },
  {
   "cell_type": "code",
   "execution_count": 21,
   "metadata": {},
   "outputs": [
    {
     "data": {
      "text/plain": [
       "[0.8214253202283005, 0.6466063]"
      ]
     },
     "execution_count": 21,
     "metadata": {},
     "output_type": "execute_result"
    }
   ],
   "source": [
    "model.evaluate(x_test, y_test, verbose=0)"
   ]
  },
  {
   "cell_type": "code",
   "execution_count": 22,
   "metadata": {},
   "outputs": [],
   "source": [
    "model.save('sst-3-class.hd5')"
   ]
  },
  {
   "cell_type": "code",
   "execution_count": null,
   "metadata": {},
   "outputs": [],
   "source": []
  }
 ],
 "metadata": {
  "kernelspec": {
   "display_name": "Python 3",
   "language": "python",
   "name": "python3"
  },
  "language_info": {
   "codemirror_mode": {
    "name": "ipython",
    "version": 3
   },
   "file_extension": ".py",
   "mimetype": "text/x-python",
   "name": "python",
   "nbconvert_exporter": "python",
   "pygments_lexer": "ipython3",
   "version": "3.7.4"
  }
 },
 "nbformat": 4,
 "nbformat_minor": 2
}
